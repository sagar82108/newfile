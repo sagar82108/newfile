{
 "cells": [
  {
   "cell_type": "code",
   "execution_count": null,
   "id": "1fbd6e90-6f23-4286-88fd-afe03468627c",
   "metadata": {},
   "outputs": [],
   "source": [
    "\"\"\"1 ans) Flask is a popular web framework written in Python that is known for its simplicity, flexibility, and lightweight nature.\n",
    "          It provides developers with the necessary tools and libraries to build web applications in a straightforward and efficient manner.\n",
    "\n",
    "        One of the key advantages of Flask is its simplicity. It follows a minimalist philosophy, \n",
    "        offering only the essential features needed for web development. This simplicity makes it easy to learn and understand, \n",
    "        especially for beginners or those who prefer a less opinionated framework."
   ]
  },
  {
   "cell_type": "code",
   "execution_count": null,
   "id": "daba68a9-c986-4faf-9f36-424f56b9ff59",
   "metadata": {},
   "outputs": [],
   "source": [
    "\"\"\"2 ans) from flask import Flask, request\n",
    "\n",
    "app = Flask(__name__)\n",
    "\n",
    "@app.route(\"/\")\n",
    "def hello_world():\n",
    "    return \"<h1>Hello, World!</h1>\"\n",
    "\n",
    "if __name__==\"__main__\":\n",
    "    app.run(host=\"0.0.0.0\")\"\"\"\n",
    "\n",
    "from IPython.display import Image\n",
    "\n",
    "Image(filename='output1.png')\n"
   ]
  },
  {
   "cell_type": "code",
   "execution_count": null,
   "id": "d3d7e1f1-6990-478b-a809-9a79e2144556",
   "metadata": {},
   "outputs": [],
   "source": [
    "\"\"\"3ans) App routing in Flask refers to defining URL routes and associating them with specific functions or view handlers. \n",
    "         It allows you to handle different URLs, route requests, create RESTful APIs, and generate dynamic URLs.\n",
    "         App routes are crucial for structuring and organizing your web application."
   ]
  },
  {
   "cell_type": "code",
   "execution_count": null,
   "id": "53314a74-7892-4c01-a61b-85a0252e9767",
   "metadata": {},
   "outputs": [],
   "source": [
    "\"\"\"4ans) from flask import Flask, request\n",
    "\n",
    "app = Flask(__name__)\n",
    "\n",
    "@app.route(\"/welcome\")\n",
    "def welcome():\n",
    "    return \"“Welcome to ABC Corporation”\"\n",
    "\n",
    "@app.route(\"/\")\n",
    "def company():\n",
    "    return '''Company Name: ABC Corporation\n",
    "              Location: India\n",
    "              Contact Detail: 999-999-9999'''\n",
    "if __name__==\"__main__\":\n",
    "    app.run(host=\"0.0.0.0\")\"\"\"\n",
    "\n",
    "from IPython.display import Image\n",
    "\n",
    "Image(filename='output2.png')\n",
    "\n"
   ]
  },
  {
   "cell_type": "code",
   "execution_count": null,
   "id": "a7506c4e-cdbb-427a-83ae-5adf95a57050",
   "metadata": {},
   "outputs": [],
   "source": [
    "\"\"\"5ans)In Flask, the url_for() function is used for URL building. \n",
    "        It generates a URL for a specific endpoint based on its name and any arguments provided.\n",
    "\n",
    "from flask import Flask, url_for\n",
    "\n",
    "app = Flask(__name__)\n",
    "\n",
    "@app.route('/')\n",
    "def index():\n",
    "    return 'Hello, World!'\n",
    "\n",
    "@app.route('/user/<username>')\n",
    "def profile(username):\n",
    "    return f'Hello, {username}!'\n",
    "\n",
    "@app.route('/product/<int:product_id>')\n",
    "def show_product(product_id):\n",
    "    return f'This is product #{product_id}'\n",
    "\n",
    "if __name__ == '__main__':\n",
    "    with app.test_request_context():\n",
    "        # Generate URLs using url_for()\n",
    "        print(url_for('index'))  # Output: /\n",
    "        print(url_for('profile', username='john'))  # Output: /user/john\n",
    "        print(url_for('show_product', product_id=42))  # Output: /product/42\n",
    "\n",
    "\n"
   ]
  }
 ],
 "metadata": {
  "kernelspec": {
   "display_name": "Python 3 (ipykernel)",
   "language": "python",
   "name": "python3"
  },
  "language_info": {
   "codemirror_mode": {
    "name": "ipython",
    "version": 3
   },
   "file_extension": ".py",
   "mimetype": "text/x-python",
   "name": "python",
   "nbconvert_exporter": "python",
   "pygments_lexer": "ipython3",
   "version": "3.10.8"
  }
 },
 "nbformat": 4,
 "nbformat_minor": 5
}
